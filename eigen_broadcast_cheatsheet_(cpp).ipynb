{
 "cells": [
  {
   "cell_type": "code",
   "execution_count": 1,
   "metadata": {},
   "outputs": [],
   "source": [
    "#include <eigen3/Eigen/Core>\n",
    "#include <iostream>\n",
    "#include <tuple>\n"
   ]
  },
  {
   "cell_type": "code",
   "execution_count": 2,
   "metadata": {},
   "outputs": [],
   "source": [
    "using EigenArray2d = Eigen::Array<double, Eigen::Dynamic, Eigen::Dynamic, Eigen::RowMajor>;\n",
    "using EigenArray1d = Eigen::Array<double, Eigen::Dynamic, 1>;"
   ]
  },
  {
   "cell_type": "code",
   "execution_count": 3,
   "metadata": {},
   "outputs": [
    {
     "name": "stdout",
     "output_type": "stream",
     "text": [
      "vec_ni:\n",
      "1\n",
      "2\n",
      "3\n",
      "\n",
      "vec_nj:\n",
      "40\n",
      "50\n",
      "\n",
      "mat_ni_nj:\n",
      " 600  700\n",
      " 800  900\n",
      "1000 1100\n",
      "\n"
     ]
    }
   ],
   "source": [
    "constexpr auto ni = 3;\n",
    "constexpr auto nj = 2;\n",
    "\n",
    "auto vec_ni = EigenArray1d(ni);\n",
    "vec_ni << 1.0, 2.0, 3.0;\n",
    "\n",
    "auto vec_nj = EigenArray1d(nj);\n",
    "vec_nj << 40.0, 50.0;\n",
    "\n",
    "auto mat_ni_nj = EigenArray2d(ni, nj);\n",
    "mat_ni_nj <<\n",
    "    600.0, 700.0,\n",
    "    800.0, 900.0,\n",
    "    1000.0, 1100.0;\n",
    "\n",
    "std::cout << \"vec_ni:\\n\" << vec_ni << \"\\n\\n\";\n",
    "std::cout << \"vec_nj:\\n\" << vec_nj << \"\\n\\n\";\n",
    "std::cout << \"mat_ni_nj:\\n\" << mat_ni_nj << \"\\n\\n\";\n"
   ]
  },
  {
   "cell_type": "code",
   "execution_count": 4,
   "metadata": {},
   "outputs": [
    {
     "name": "stdout",
     "output_type": "stream",
     "text": [
      "vec_nj * mat_ni_nj:\n",
      "24000 35000\n",
      "32000 45000\n",
      "40000 55000\n",
      "\n"
     ]
    }
   ],
   "source": [
    "std::cout << \"vec_nj * mat_ni_nj:\\n\"\n",
    "    << mat_ni_nj.rowwise() * vec_nj.transpose() << \"\\n\\n\";"
   ]
  },
  {
   "cell_type": "code",
   "execution_count": 5,
   "metadata": {},
   "outputs": [
    {
     "name": "stdout",
     "output_type": "stream",
     "text": [
      "vec_ni * mat_ni_nj.T:\n",
      " 600 1600 3000\n",
      " 700 1800 3300\n",
      "\n"
     ]
    }
   ],
   "source": [
    "std::cout << \"vec_ni * mat_ni_nj.T:\\n\"\n",
    "    << (mat_ni_nj.transpose().rowwise() * vec_ni.transpose()) << \"\\n\\n\";"
   ]
  },
  {
   "cell_type": "code",
   "execution_count": 6,
   "metadata": {},
   "outputs": [
    {
     "name": "stdout",
     "output_type": "stream",
     "text": [
      "np.sum(vec_nj * mat_ni_nj, axis=1):\n",
      "59000\n",
      "77000\n",
      "95000\n",
      "\n"
     ]
    }
   ],
   "source": [
    "std::cout << \"np.sum(vec_nj * mat_ni_nj, axis=1):\\n\"\n",
    "    << (mat_ni_nj.rowwise() * vec_nj.transpose()).rowwise().sum() << \"\\n\\n\";"
   ]
  },
  {
   "cell_type": "code",
   "execution_count": 7,
   "metadata": {},
   "outputs": [],
   "source": [
    "auto mat_nj_ni = (mat_ni_nj.transpose().rowwise() * vec_ni.transpose()).eval();"
   ]
  },
  {
   "cell_type": "code",
   "execution_count": 8,
   "metadata": {},
   "outputs": [
    {
     "name": "stdout",
     "output_type": "stream",
     "text": [
      "mat_nj_ni / vec_ni:\n",
      " 600  800 1000\n",
      " 700  900 1100\n",
      "\n"
     ]
    }
   ],
   "source": [
    "std::cout << \"mat_nj_ni / vec_ni:\\n\"\n",
    "    << mat_nj_ni.rowwise() / vec_ni.transpose() << \"\\n\\n\";    "
   ]
  },
  {
   "cell_type": "code",
   "execution_count": 9,
   "metadata": {},
   "outputs": [
    {
     "name": "stdout",
     "output_type": "stream",
     "text": [
      "(vec_ni * mat_ni_nj.T) / vec_ni:\n",
      " 600  800 1000\n",
      " 700  900 1100\n",
      "\n"
     ]
    }
   ],
   "source": [
    "// Replacing `mat_nj_ni` with it's expression\n",
    "\n",
    "std::cout << \"(vec_ni * mat_ni_nj.T) / vec_ni:\\n\"\n",
    "    << (mat_ni_nj.transpose().rowwise() * vec_ni.transpose()).rowwise() / vec_ni.transpose() << \"\\n\\n\";"
   ]
  },
  {
   "cell_type": "code",
   "execution_count": 10,
   "metadata": {},
   "outputs": [
    {
     "name": "stdout",
     "output_type": "stream",
     "text": [
      "(vec_ni * mat_ni_nj.T) / np.sum(vec_nj * mat_ni_nj, axis=1):\n",
      "0.0101695 0.0207792 0.0315789\n",
      "0.0118644 0.0233766 0.0347368\n",
      "\n"
     ]
    }
   ],
   "source": [
    "// Replacing rightmost `vec_ni` by the sum expression\n",
    "\n",
    "std::cout << \"(vec_ni * mat_ni_nj.T) / np.sum(vec_nj * mat_ni_nj, axis=1):\\n\"\n",
    "    << (mat_ni_nj.transpose().rowwise() * vec_ni.transpose()).rowwise() / (mat_ni_nj.rowwise() * vec_nj.transpose()).rowwise().sum().transpose() << \"\\n\\n\";"
   ]
  }
 ],
 "metadata": {
  "kernelspec": {
   "display_name": "C++17",
   "language": "C++17",
   "name": "xeus-cling-cpp17"
  },
  "language_info": {
   "codemirror_mode": "text/x-c++src",
   "file_extension": ".cpp",
   "mimetype": "text/x-c++src",
   "name": "c++",
   "version": "-std=c++17"
  }
 },
 "nbformat": 4,
 "nbformat_minor": 2
}
