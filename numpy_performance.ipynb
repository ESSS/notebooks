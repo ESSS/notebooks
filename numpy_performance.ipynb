{
 "cells": [
  {
   "cell_type": "code",
   "execution_count": 6,
   "metadata": {
    "collapsed": true
   },
   "outputs": [],
   "source": [
    "import numpy as np"
   ]
  },
  {
   "cell_type": "markdown",
   "metadata": {},
   "source": [
    "## `np.zeros_like` vs `np.zeros`"
   ]
  },
  {
   "cell_type": "code",
   "execution_count": 57,
   "metadata": {},
   "outputs": [
    {
     "name": "stdout",
     "output_type": "stream",
     "text": [
      "Small size\n",
      "5.99 µs ± 581 ns per loop (mean ± std. dev. of 7 runs, 10000 loops each)\n",
      "2.16 µs ± 203 ns per loop (mean ± std. dev. of 7 runs, 10000 loops each)\n",
      "Large size\n",
      "839 µs ± 42 µs per loop (mean ± std. dev. of 7 runs, 100 loops each)\n",
      "18.3 µs ± 1.28 µs per loop (mean ± std. dev. of 7 runs, 100 loops each)\n"
     ]
    }
   ],
   "source": [
    "print(\"Small size\")\n",
    "a = np.ones(shape=(4, 500))\n",
    "%timeit -n10000 np.zeros_like(a)\n",
    "%timeit -n10000 np.zeros(shape=a.shape)\n",
    "print(\"Large size\")\n",
    "a = np.ones(shape=(8, 50000))\n",
    "%timeit -n100 np.zeros_like(a)\n",
    "%timeit -n100 np.zeros(shape=a.shape)"
   ]
  },
  {
   "cell_type": "markdown",
   "metadata": {},
   "source": [
    "## `np.ones_like` vs `np.ones`"
   ]
  },
  {
   "cell_type": "code",
   "execution_count": 58,
   "metadata": {},
   "outputs": [
    {
     "name": "stdout",
     "output_type": "stream",
     "text": [
      "Small size\n",
      "4.66 µs ± 415 ns per loop (mean ± std. dev. of 7 runs, 10000 loops each)\n",
      "4.27 µs ± 701 ns per loop (mean ± std. dev. of 7 runs, 10000 loops each)\n",
      "Large size\n",
      "908 µs ± 85 µs per loop (mean ± std. dev. of 7 runs, 100 loops each)\n",
      "876 µs ± 64.5 µs per loop (mean ± std. dev. of 7 runs, 100 loops each)\n"
     ]
    }
   ],
   "source": [
    "print(\"Small size\")\n",
    "a = np.ones(shape=(4, 500))\n",
    "%timeit -n10000 np.ones_like(a)\n",
    "%timeit -n10000 np.ones(shape=a.shape)\n",
    "print(\"Large size\")\n",
    "a = np.ones(shape=(8, 50000))\n",
    "%timeit -n100 np.ones_like(a)\n",
    "%timeit -n100 np.ones(shape=a.shape)"
   ]
  },
  {
   "cell_type": "markdown",
   "metadata": {},
   "source": [
    "## `np.full_like` vs `np.full`"
   ]
  },
  {
   "cell_type": "code",
   "execution_count": 59,
   "metadata": {},
   "outputs": [
    {
     "name": "stdout",
     "output_type": "stream",
     "text": [
      "Small size\n",
      "4.19 µs ± 310 ns per loop (mean ± std. dev. of 7 runs, 10000 loops each)\n",
      "4.7 µs ± 437 ns per loop (mean ± std. dev. of 7 runs, 10000 loops each)\n",
      "Large size\n",
      "843 µs ± 32.3 µs per loop (mean ± std. dev. of 7 runs, 100 loops each)\n",
      "839 µs ± 27.3 µs per loop (mean ± std. dev. of 7 runs, 100 loops each)\n"
     ]
    }
   ],
   "source": [
    "print(\"Small size\")\n",
    "a = np.ones(shape=(4, 500))\n",
    "%timeit -n10000 np.full_like(a, 1.1)\n",
    "%timeit -n10000 np.full(a.shape, 1.1)\n",
    "print(\"Large size\")\n",
    "a = np.ones(shape=(8, 50000))\n",
    "%timeit -n100 np.full_like(a, 1.1)\n",
    "%timeit -n100 np.full(a.shape, 1.1)"
   ]
  },
  {
   "cell_type": "markdown",
   "metadata": {},
   "source": [
    "## `np.empty_like` vs `np.empty`"
   ]
  },
  {
   "cell_type": "code",
   "execution_count": 61,
   "metadata": {},
   "outputs": [
    {
     "name": "stdout",
     "output_type": "stream",
     "text": [
      "Small size\n",
      "376 ns ± 71 ns per loop (mean ± std. dev. of 7 runs, 10000 loops each)\n",
      "577 ns ± 64.4 ns per loop (mean ± std. dev. of 7 runs, 10000 loops each)\n",
      "Large size\n",
      "15.2 µs ± 620 ns per loop (mean ± std. dev. of 7 runs, 100 loops each)\n",
      "16 µs ± 583 ns per loop (mean ± std. dev. of 7 runs, 100 loops each)\n"
     ]
    }
   ],
   "source": [
    "print(\"Small size\")\n",
    "a = np.empty(shape=(4, 500))\n",
    "%timeit -n10000 np.empty_like(a)\n",
    "%timeit -n10000 np.empty(a.shape)\n",
    "print(\"Large size\")\n",
    "a = np.ones(shape=(8, 50000))\n",
    "%timeit -n100 np.empty_like(a)\n",
    "%timeit -n100 np.empty(a.shape)"
   ]
  },
  {
   "cell_type": "markdown",
   "metadata": {},
   "source": [
    "## `np.r_` vs `np.concatenate` vs `vstack`"
   ]
  },
  {
   "cell_type": "code",
   "execution_count": 64,
   "metadata": {},
   "outputs": [
    {
     "name": "stdout",
     "output_type": "stream",
     "text": [
      "Small size\n",
      "23.4 µs ± 619 ns per loop (mean ± std. dev. of 7 runs, 10000 loops each)\n",
      "9.61 µs ± 327 ns per loop (mean ± std. dev. of 7 runs, 10000 loops each)\n",
      "13 µs ± 425 ns per loop (mean ± std. dev. of 7 runs, 10000 loops each)\n",
      "\n",
      "Large size\n",
      "4.1 ms ± 80.5 µs per loop (mean ± std. dev. of 7 runs, 100 loops each)\n",
      "4.03 ms ± 96.6 µs per loop (mean ± std. dev. of 7 runs, 100 loops each)\n",
      "4.27 ms ± 371 µs per loop (mean ± std. dev. of 7 runs, 100 loops each)\n"
     ]
    }
   ],
   "source": [
    "print(\"Small size\")\n",
    "a = np.ones(500)\n",
    "%timeit -n10000 np.r_[[a], [a], [a], [a]]\n",
    "%timeit -n10000 np.concatenate(([a], [a], [a], [a]))\n",
    "%timeit -n10000 np.vstack((a, a, a, a))\n",
    "assert np.allclose(np.r_[[a], [a], [a], [a]], np.concatenate(([a], [a], [a], [a])))\n",
    "assert np.allclose(np.r_[[a], [a], [a], [a]], np.vstack((a, a, a, a)))\n",
    "print(\"\\nLarge size\")\n",
    "a = np.ones(shape=(8, 50000))\n",
    "%timeit -n100 np.r_[a, a, a, a]\n",
    "%timeit -n100 np.concatenate((a, a, a, a))\n",
    "%timeit -n100 np.vstack((a, a, a, a))\n",
    "assert np.allclose(np.r_[a, a, a, a], np.concatenate((a, a, a, a)))\n",
    "assert np.allclose(np.r_[a, a, a, a], np.vstack((a, a, a, a)))"
   ]
  },
  {
   "cell_type": "markdown",
   "metadata": {},
   "source": [
    "## `np.c_` vs `np.hstack`"
   ]
  },
  {
   "cell_type": "code",
   "execution_count": 86,
   "metadata": {},
   "outputs": [
    {
     "name": "stdout",
     "output_type": "stream",
     "text": [
      "Small size\n",
      "41.5 µs ± 7.87 µs per loop (mean ± std. dev. of 7 runs, 10000 loops each)\n",
      "7.41 µs ± 336 ns per loop (mean ± std. dev. of 7 runs, 10000 loops each)\n",
      "\n",
      "Large size\n",
      "3.61 ms ± 128 µs per loop (mean ± std. dev. of 7 runs, 100 loops each)\n",
      "3.41 ms ± 98.5 µs per loop (mean ± std. dev. of 7 runs, 100 loops each)\n"
     ]
    }
   ],
   "source": [
    "print(\"Small size\")\n",
    "U = np.ones(shape=(2, 400))\n",
    "%timeit -n10000 np.c_[U[:, 0], U]\n",
    "%timeit -n10000 np.hstack((U[:, 0, np.newaxis], U))\n",
    "assert np.allclose(np.c_[U[:, 0], U], np.hstack((U[:, 0, np.newaxis], U)))\n",
    "\n",
    "print(\"\\nLarge size\")\n",
    "U = np.ones(shape=(3, 400000))\n",
    "%timeit -n100 np.c_[U[:, 0], U]\n",
    "%timeit -n100 np.hstack((U[:, 0, np.newaxis], U))\n",
    "assert np.allclose(np.c_[U[:, 0], U], np.hstack((U[:, 0, np.newaxis], U)))"
   ]
  },
  {
   "cell_type": "code",
   "execution_count": null,
   "metadata": {
    "collapsed": true
   },
   "outputs": [],
   "source": []
  },
  {
   "cell_type": "code",
   "execution_count": 87,
   "metadata": {},
   "outputs": [
    {
     "name": "stdout",
     "output_type": "stream",
     "text": [
      "Small size\n",
      "33.1 µs ± 118 ns per loop (mean ± std. dev. of 7 runs, 1000000 loops each)\n",
      "7.2 µs ± 79.6 ns per loop (mean ± std. dev. of 7 runs, 1000000 loops each)\n"
     ]
    }
   ],
   "source": [
    "print(\"Small size\")\n",
    "U = np.ones(shape=(2, 400))\n",
    "%timeit -n1000000 np.c_[U[:, 0], U]\n",
    "%timeit -n1000000 np.hstack((U[:, 0, np.newaxis], U))\n",
    "assert np.allclose(np.c_[U[:, 0], U], np.hstack((U[:, 0, np.newaxis], U)))"
   ]
  },
  {
   "cell_type": "code",
   "execution_count": 95,
   "metadata": {},
   "outputs": [
    {
     "data": {
      "text/plain": [
       "331.0"
      ]
     },
     "execution_count": 95,
     "metadata": {},
     "output_type": "execute_result"
    }
   ],
   "source": [
    "33.1 * 1e-6 * 1e6 * 10"
   ]
  },
  {
   "cell_type": "code",
   "execution_count": 96,
   "metadata": {},
   "outputs": [
    {
     "data": {
      "text/plain": [
       "72.0"
      ]
     },
     "execution_count": 96,
     "metadata": {},
     "output_type": "execute_result"
    }
   ],
   "source": [
    "7.2  * 1e-6 * 1e6 * 10"
   ]
  },
  {
   "cell_type": "code",
   "execution_count": null,
   "metadata": {
    "collapsed": true
   },
   "outputs": [],
   "source": []
  }
 ],
 "metadata": {
  "kernelspec": {
   "display_name": "Python 3",
   "language": "python",
   "name": "python3"
  },
  "language_info": {
   "codemirror_mode": {
    "name": "ipython",
    "version": 3
   },
   "file_extension": ".py",
   "mimetype": "text/x-python",
   "name": "python",
   "nbconvert_exporter": "python",
   "pygments_lexer": "ipython3",
   "version": "3.5.3"
  }
 },
 "nbformat": 4,
 "nbformat_minor": 2
}
