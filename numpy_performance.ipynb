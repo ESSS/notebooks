{
 "cells": [
  {
   "cell_type": "code",
   "execution_count": 1,
   "metadata": {
    "collapsed": true
   },
   "outputs": [],
   "source": [
    "import numpy as np"
   ]
  },
  {
   "cell_type": "markdown",
   "metadata": {},
   "source": [
    "## `np.zeros_like` vs `np.zeros`"
   ]
  },
  {
   "cell_type": "code",
   "execution_count": 2,
   "metadata": {},
   "outputs": [
    {
     "name": "stdout",
     "output_type": "stream",
     "text": [
      "Small size\n",
      "5.91 µs ± 406 ns per loop (mean ± std. dev. of 7 runs, 10000 loops each)\n",
      "2.06 µs ± 66.5 ns per loop (mean ± std. dev. of 7 runs, 10000 loops each)\n",
      "Large size\n",
      "800 µs ± 11.3 µs per loop (mean ± std. dev. of 7 runs, 100 loops each)\n",
      "18.2 µs ± 1.17 µs per loop (mean ± std. dev. of 7 runs, 100 loops each)\n"
     ]
    }
   ],
   "source": [
    "print(\"Small size\")\n",
    "a = np.ones(shape=(4, 500))\n",
    "%timeit -n10000 np.zeros_like(a)\n",
    "%timeit -n10000 np.zeros(shape=a.shape)\n",
    "print(\"Large size\")\n",
    "a = np.ones(shape=(8, 50000))\n",
    "%timeit -n100 np.zeros_like(a)\n",
    "%timeit -n100 np.zeros(shape=a.shape)"
   ]
  },
  {
   "cell_type": "markdown",
   "metadata": {},
   "source": [
    "## `np.ones_like` vs `np.ones`"
   ]
  },
  {
   "cell_type": "code",
   "execution_count": 3,
   "metadata": {},
   "outputs": [
    {
     "name": "stdout",
     "output_type": "stream",
     "text": [
      "Small size\n",
      "4.13 µs ± 173 ns per loop (mean ± std. dev. of 7 runs, 10000 loops each)\n",
      "3.82 µs ± 84.5 ns per loop (mean ± std. dev. of 7 runs, 10000 loops each)\n",
      "Large size\n",
      "803 µs ± 29 µs per loop (mean ± std. dev. of 7 runs, 100 loops each)\n",
      "806 µs ± 14.8 µs per loop (mean ± std. dev. of 7 runs, 100 loops each)\n"
     ]
    }
   ],
   "source": [
    "print(\"Small size\")\n",
    "a = np.ones(shape=(4, 500))\n",
    "%timeit -n10000 np.ones_like(a)\n",
    "%timeit -n10000 np.ones(shape=a.shape)\n",
    "print(\"Large size\")\n",
    "a = np.ones(shape=(8, 50000))\n",
    "%timeit -n100 np.ones_like(a)\n",
    "%timeit -n100 np.ones(shape=a.shape)"
   ]
  },
  {
   "cell_type": "markdown",
   "metadata": {},
   "source": [
    "## `np.full_like` vs `np.full`"
   ]
  },
  {
   "cell_type": "code",
   "execution_count": 4,
   "metadata": {},
   "outputs": [
    {
     "name": "stdout",
     "output_type": "stream",
     "text": [
      "Small size\n",
      "4.12 µs ± 251 ns per loop (mean ± std. dev. of 7 runs, 10000 loops each)\n",
      "4.4 µs ± 112 ns per loop (mean ± std. dev. of 7 runs, 10000 loops each)\n",
      "Large size\n",
      "794 µs ± 16.1 µs per loop (mean ± std. dev. of 7 runs, 100 loops each)\n",
      "796 µs ± 16.8 µs per loop (mean ± std. dev. of 7 runs, 100 loops each)\n"
     ]
    }
   ],
   "source": [
    "print(\"Small size\")\n",
    "a = np.ones(shape=(4, 500))\n",
    "%timeit -n10000 np.full_like(a, 1.1)\n",
    "%timeit -n10000 np.full(a.shape, 1.1)\n",
    "print(\"Large size\")\n",
    "a = np.ones(shape=(8, 50000))\n",
    "%timeit -n100 np.full_like(a, 1.1)\n",
    "%timeit -n100 np.full(a.shape, 1.1)"
   ]
  },
  {
   "cell_type": "markdown",
   "metadata": {},
   "source": [
    "## `np.empty_like` vs `np.empty`"
   ]
  },
  {
   "cell_type": "code",
   "execution_count": 5,
   "metadata": {},
   "outputs": [
    {
     "name": "stdout",
     "output_type": "stream",
     "text": [
      "Small size\n",
      "366 ns ± 47.7 ns per loop (mean ± std. dev. of 7 runs, 10000 loops each)\n",
      "542 ns ± 21.5 ns per loop (mean ± std. dev. of 7 runs, 10000 loops each)\n",
      "Large size\n",
      "15.9 µs ± 667 ns per loop (mean ± std. dev. of 7 runs, 100 loops each)\n",
      "17.5 µs ± 1.71 µs per loop (mean ± std. dev. of 7 runs, 100 loops each)\n"
     ]
    }
   ],
   "source": [
    "print(\"Small size\")\n",
    "a = np.empty(shape=(4, 500))\n",
    "%timeit -n10000 np.empty_like(a)\n",
    "%timeit -n10000 np.empty(a.shape)\n",
    "print(\"Large size\")\n",
    "a = np.ones(shape=(8, 50000))\n",
    "%timeit -n100 np.empty_like(a)\n",
    "%timeit -n100 np.empty(a.shape)"
   ]
  },
  {
   "cell_type": "markdown",
   "metadata": {},
   "source": [
    "## `np.r_` vs `np.concatenate` vs `vstack` vs `np.array`"
   ]
  },
  {
   "cell_type": "code",
   "execution_count": 6,
   "metadata": {},
   "outputs": [
    {
     "name": "stdout",
     "output_type": "stream",
     "text": [
      "Small size\n",
      "22.4 µs ± 236 ns per loop (mean ± std. dev. of 7 runs, 10000 loops each)\n",
      "9.2 µs ± 82.6 ns per loop (mean ± std. dev. of 7 runs, 10000 loops each)\n",
      "12.6 µs ± 142 ns per loop (mean ± std. dev. of 7 runs, 10000 loops each)\n",
      "3.43 µs ± 66.8 ns per loop (mean ± std. dev. of 7 runs, 10000 loops each)\n",
      "4.85 µs ± 85.1 ns per loop (mean ± std. dev. of 7 runs, 10000 loops each)\n",
      "\n",
      "Large size\n",
      "3.79 ms ± 90.9 µs per loop (mean ± std. dev. of 7 runs, 100 loops each)\n",
      "3.71 ms ± 42.4 µs per loop (mean ± std. dev. of 7 runs, 100 loops each)\n",
      "4.33 ms ± 553 µs per loop (mean ± std. dev. of 7 runs, 100 loops each)\n",
      "4.04 ms ± 312 µs per loop (mean ± std. dev. of 7 runs, 100 loops each)\n"
     ]
    }
   ],
   "source": [
    "print(\"Small size\")\n",
    "a = np.ones(500)\n",
    "%timeit -n10000 np.r_[[a], [a], [a], [a]]\n",
    "%timeit -n10000 np.concatenate(([a], [a], [a], [a]))\n",
    "%timeit -n10000 np.vstack((a, a, a, a))\n",
    "%timeit -n10000 np.array([a,a,a,a]) # another approach for this case\n",
    "%timeit -n10000 np.array([a, a, a, a]).reshape((-1, a.shape[-1]))\n",
    "assert np.allclose(np.r_[[a], [a], [a], [a]], np.concatenate(([a], [a], [a], [a])))\n",
    "assert np.allclose(np.r_[[a], [a], [a], [a]], np.vstack((a, a, a, a)))\n",
    "assert np.allclose(np.r_[[a], [a], [a], [a]], np.array([a,a,a,a]))\n",
    "assert np.allclose(np.r_[[a], [a], [a], [a]], np.array([a, a, a, a]).reshape((-1, a.shape[-1])))\n",
    "print(\"\\nLarge size\")\n",
    "a = np.random.rand(8, 50000)\n",
    "%timeit -n100 np.r_[a, a, a, a]\n",
    "%timeit -n100 np.concatenate((a, a, a, a))\n",
    "%timeit -n100 np.vstack((a, a, a, a))\n",
    "%timeit -n100 np.array([a, a, a, a]).reshape((-1, a.shape[1]))\n",
    "\n",
    "assert np.allclose(np.r_[a, a, a, a], np.concatenate((a, a, a, a)))\n",
    "assert np.allclose(np.r_[a, a, a, a], np.vstack((a, a, a, a)))\n",
    "assert np.allclose(np.r_[a, a, a, a], np.array([a, a, a, a]).reshape((-1, a.shape[1])))"
   ]
  },
  {
   "cell_type": "markdown",
   "metadata": {},
   "source": [
    "## `np.c_` vs `np.hstack`"
   ]
  },
  {
   "cell_type": "code",
   "execution_count": 7,
   "metadata": {},
   "outputs": [
    {
     "name": "stdout",
     "output_type": "stream",
     "text": [
      "Small size\n",
      "33.3 µs ± 592 ns per loop (mean ± std. dev. of 7 runs, 10000 loops each)\n",
      "7.04 µs ± 140 ns per loop (mean ± std. dev. of 7 runs, 10000 loops each)\n",
      "3.74 µs ± 102 ns per loop (mean ± std. dev. of 7 runs, 10000 loops each)\n",
      "\n",
      "Large size\n",
      "3.25 ms ± 54.1 µs per loop (mean ± std. dev. of 7 runs, 100 loops each)\n",
      "3.19 ms ± 27.8 µs per loop (mean ± std. dev. of 7 runs, 100 loops each)\n",
      "3.2 ms ± 60.3 µs per loop (mean ± std. dev. of 7 runs, 100 loops each)\n"
     ]
    }
   ],
   "source": [
    "print(\"Small size\")\n",
    "U = np.ones(shape=(2, 400))\n",
    "%timeit -n10000 np.c_[U[:, 0], U]\n",
    "%timeit -n10000 np.hstack((U[:, 0, np.newaxis], U))\n",
    "%timeit -n10000 Unew = np.empty(shape=(U.shape[0], U.shape[1] + 1)); Unew[:, 0] = U[:, 0]; Unew[:, 1:] = U;\n",
    "\n",
    "assert np.allclose(np.c_[U[:, 0], U], np.hstack((U[:, 0, np.newaxis], U)))\n",
    "Unew = np.empty(shape=(U.shape[0], U.shape[1] + 1)); Unew[:, 0] = U[:, 0]; Unew[:, 1:] = U;\n",
    "assert np.allclose(np.c_[U[:, 0], U], Unew)\n",
    "\n",
    "print(\"\\nLarge size\")\n",
    "U = np.ones(shape=(3, 400000))\n",
    "%timeit -n100 np.c_[U[:, 0], U]\n",
    "%timeit -n100 np.hstack((U[:, 0, np.newaxis], U))\n",
    "%timeit -n100 Unew = np.empty(shape=(U.shape[0], U.shape[1] + 1)); Unew[:, 0] = U[:, 0]; Unew[:, 1:] = U;\n",
    "assert np.allclose(np.c_[U[:, 0], U], np.hstack((U[:, 0, np.newaxis], U)))\n",
    "Unew = np.empty(shape=(U.shape[0], U.shape[1] + 1)); Unew[:, 0] = U[:, 0]; Unew[:, 1:] = U;\n",
    "assert np.allclose(np.c_[U[:, 0], U], Unew)"
   ]
  },
  {
   "cell_type": "markdown",
   "metadata": {},
   "source": [
    "## `np.diff` vs `U[..., 1:] - U[..., :-1]`"
   ]
  },
  {
   "cell_type": "code",
   "execution_count": 8,
   "metadata": {},
   "outputs": [
    {
     "name": "stdout",
     "output_type": "stream",
     "text": [
      "Small size\n",
      "8.39 µs ± 428 ns per loop (mean ± std. dev. of 7 runs, 10000 loops each)\n",
      "3.81 µs ± 170 ns per loop (mean ± std. dev. of 7 runs, 10000 loops each)\n",
      "Large size\n",
      "457 µs ± 22.6 µs per loop (mean ± std. dev. of 7 runs, 100 loops each)\n",
      "451 µs ± 20.6 µs per loop (mean ± std. dev. of 7 runs, 100 loops each)\n"
     ]
    }
   ],
   "source": [
    "print(\"Small size\")\n",
    "U = np.ones(shape=(4, 200))\n",
    "%timeit -n10000 np.diff(U, axis=-1)\n",
    "%timeit -n10000 U[..., 1:] - U[..., :-1]\n",
    "assert np.allclose(np.diff(U, axis=-1), U[..., 1:] - U[..., :-1])\n",
    "\n",
    "print(\"Large size\")\n",
    "U = np.ones(shape=(20, 10000))\n",
    "%timeit -n100 np.diff(U, axis=-1)\n",
    "%timeit -n100 U[..., 1:] - U[..., :-1]\n",
    "assert np.allclose(np.diff(U, axis=-1), U[..., 1:] - U[..., :-1])"
   ]
  },
  {
   "cell_type": "markdown",
   "metadata": {},
   "source": [
    "## `a.copy()` vs `np.array(a)` vs `np.r_[a]`"
   ]
  },
  {
   "cell_type": "code",
   "execution_count": 9,
   "metadata": {},
   "outputs": [
    {
     "name": "stdout",
     "output_type": "stream",
     "text": [
      "2.41 µs ± 893 ns per loop (mean ± std. dev. of 7 runs, 1000 loops each)\n",
      "1.67 µs ± 448 ns per loop (mean ± std. dev. of 7 runs, 1000 loops each)\n",
      "14 µs ± 5.85 µs per loop (mean ± std. dev. of 7 runs, 1000 loops each)\n",
      "2.2 µs ± 211 ns per loop (mean ± std. dev. of 7 runs, 1000 loops each)\n"
     ]
    }
   ],
   "source": [
    "a = np.arange(5000)\n",
    "%timeit -n1000 a.copy()\n",
    "%timeit -n1000 np.array(a)\n",
    "%timeit -n1000 np.r_[a]\n",
    "%timeit -n1000 anew = np.empty_like(a); anew[:] = a[:];"
   ]
  }
 ],
 "metadata": {
  "kernelspec": {
   "display_name": "Python 3",
   "language": "python",
   "name": "python3"
  },
  "language_info": {
   "codemirror_mode": {
    "name": "ipython",
    "version": 3
   },
   "file_extension": ".py",
   "mimetype": "text/x-python",
   "name": "python",
   "nbconvert_exporter": "python",
   "pygments_lexer": "ipython3",
   "version": "3.5.3"
  }
 },
 "nbformat": 4,
 "nbformat_minor": 2
}
