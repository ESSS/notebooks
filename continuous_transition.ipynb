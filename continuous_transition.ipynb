{
 "cells": [
  {
   "cell_type": "markdown",
   "metadata": {},
   "source": [
    "# Bounding Velocities\n",
    "\n",
    "Using the approach from \n",
    "\n",
    "    2015 - Ashrafizadeh et al - A Jacobian-free Newton–Krylov method for thermalhydraulics simulations\n",
    "\n",
    "Eq. (41a) and (41b) from the article."
   ]
  },
  {
   "cell_type": "code",
   "execution_count": 28,
   "metadata": {
    "collapsed": true
   },
   "outputs": [],
   "source": [
    "import numpy as np\n",
    "def continuous_transition(x, x_threshold, y0, y1, smoothness):\n",
    "    η = 0.5 * (1 + np.tanh( (x - x_threshold) / smoothness ))\n",
    "    return (1 - η) * y0 + η * y1"
   ]
  },
  {
   "cell_type": "code",
   "execution_count": 31,
   "metadata": {},
   "outputs": [
    {
     "data": {
      "application/vnd.jupyter.widget-view+json": {
       "model_id": "fc94c8712b7f491fb298f6d6950a8fa1"
      }
     },
     "metadata": {},
     "output_type": "display_data"
    }
   ],
   "source": [
    "import seaborn\n",
    "import matplotlib .pyplot as plt\n",
    "from ipywidgets import interact, widgets\n",
    "\n",
    "α = np.linspace(0, 1, num=500)\n",
    "\n",
    "@interact(\n",
    "    U_G=(1.0, 10, 0.1),\n",
    "    U_L=(1.0, 10, 0.1),\n",
    "    α_min=widgets.FloatSlider(\n",
    "        min=1e-5, \n",
    "        max=0.5, \n",
    "        value=0.25, \n",
    "        step=1e-5, \n",
    "        continuous_update=True,\n",
    "        readout_format='.2e',\n",
    "    ),\n",
    "    smoothness=widgets.FloatSlider(\n",
    "        min=1e-5, \n",
    "        max=1e-1, \n",
    "        value=1e-2, \n",
    "        step=1e-5, \n",
    "        continuous_update=True,\n",
    "        readout_format='.2e',\n",
    "    )\n",
    ")\n",
    "def plot_results(U_G=5, U_L=1, α_min=0.5, smoothness=1e-2):\n",
    "    Umax = max(U_G, U_L)\n",
    "    Umin = min(U_G, U_L)\n",
    "    \n",
    "    U = continuous_transition(x=α, x_threshold=α_min, y0=U_L, y1=U_G, smoothness=smoothness)\n",
    "    plt.figure(figsize=(10,10))\n",
    "    plt.plot(α, U)\n",
    "    plt.xlim((-0.1, 1.1))\n",
    "\n",
    "    plt.ylim((0.9*Umin, 1.1*Umax))\n",
    "    plt.show()"
   ]
  },
  {
   "cell_type": "code",
   "execution_count": 30,
   "metadata": {},
   "outputs": [
    {
     "data": {
      "image/png": "[encoded data removed]",
      "text/plain": [
       "<matplotlib.figure.Figure at 0x220ce7a7630>"
      ]
     },
     "metadata": {},
     "output_type": "display_data"
    }
   ],
   "source": [
    "plot_results()"
   ]
  },
  {
   "cell_type": "code",
   "execution_count": null,
   "metadata": {
    "collapsed": true
   },
   "outputs": [],
   "source": []
  }
 ],
 "metadata": {
  "kernelspec": {
   "display_name": "Python 3",
   "language": "python",
   "name": "python3"
  },
  "language_info": {
   "codemirror_mode": {
    "name": "ipython",
    "version": 3
   },
   "file_extension": ".py",
   "mimetype": "text/x-python",
   "name": "python",
   "nbconvert_exporter": "python",
   "pygments_lexer": "ipython3",
   "version": "3.5.3"
  }
 },
 "nbformat": 4,
 "nbformat_minor": 2
}
