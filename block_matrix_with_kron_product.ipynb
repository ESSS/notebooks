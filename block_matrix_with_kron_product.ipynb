{
 "cells": [
  {
   "cell_type": "markdown",
   "metadata": {},
   "source": [
    "# Creating block matrix structures using numpy and scipy\n",
    "\n",
    "This notebook intends to provide a consistent way to create a block matrix structure from a simplified non-block matrix structure.\n",
    "\n",
    "## Numpy (dense) version\n",
    "\n",
    "First, let's import our numpy module"
   ]
  },
  {
   "cell_type": "code",
   "execution_count": 1,
   "metadata": {
    "collapsed": true
   },
   "outputs": [],
   "source": [
    "import numpy as np"
   ]
  },
  {
   "cell_type": "markdown",
   "metadata": {},
   "source": [
    "Now, assuming we have the following matrix structure"
   ]
  },
  {
   "cell_type": "code",
   "execution_count": 2,
   "metadata": {
    "collapsed": false
   },
   "outputs": [],
   "source": [
    "A = np.array([[1, 1, 0, 0, 0, 0],\n",
    "              [1, 1, 1, 0, 0, 0],\n",
    "              [0, 1, 1, 1, 0, 0],\n",
    "              [0, 0, 1, 1, 1, 0],\n",
    "              [0, 0, 0, 1, 1, 1],\n",
    "              [0, 0, 0, 0, 1, 1]])"
   ]
  },
  {
   "cell_type": "code",
   "execution_count": 3,
   "metadata": {
    "collapsed": false
   },
   "outputs": [
    {
     "data": {
      "text/plain": [
       "array([[1, 1, 0, 0, 0, 0],\n",
       "       [1, 1, 1, 0, 0, 0],\n",
       "       [0, 1, 1, 1, 0, 0],\n",
       "       [0, 0, 1, 1, 1, 0],\n",
       "       [0, 0, 0, 1, 1, 1],\n",
       "       [0, 0, 0, 0, 1, 1]])"
      ]
     },
     "execution_count": 3,
     "metadata": {},
     "output_type": "execute_result"
    }
   ],
   "source": [
    "A"
   ]
  },
  {
   "cell_type": "markdown",
   "metadata": {},
   "source": [
    "We want to expand this structure to a block matrix structure for a given number of degrees of freedom (dof)"
   ]
  },
  {
   "cell_type": "code",
   "execution_count": 4,
   "metadata": {
    "collapsed": true
   },
   "outputs": [],
   "source": [
    "dof = 3"
   ]
  },
  {
   "cell_type": "markdown",
   "metadata": {},
   "source": [
    "All we need is to define a blow matrix as follow"
   ]
  },
  {
   "cell_type": "code",
   "execution_count": 5,
   "metadata": {
    "collapsed": false
   },
   "outputs": [],
   "source": [
    "B = np.ones((dof, dof))"
   ]
  },
  {
   "cell_type": "code",
   "execution_count": 6,
   "metadata": {
    "collapsed": false
   },
   "outputs": [
    {
     "data": {
      "text/plain": [
       "array([[ 1.,  1.,  1.],\n",
       "       [ 1.,  1.,  1.],\n",
       "       [ 1.,  1.,  1.]])"
      ]
     },
     "execution_count": 6,
     "metadata": {},
     "output_type": "execute_result"
    }
   ],
   "source": [
    "B"
   ]
  },
  {
   "cell_type": "markdown",
   "metadata": {},
   "source": [
    "The Kronecker product (`kron`) of the matrix `A` with this matrix `B` will result in a block matrix with similar shape as `A`"
   ]
  },
  {
   "cell_type": "code",
   "execution_count": 7,
   "metadata": {
    "collapsed": false
   },
   "outputs": [],
   "source": [
    "A_block = np.kron(A, B)"
   ]
  },
  {
   "cell_type": "markdown",
   "metadata": {},
   "source": [
    "For more info about the Kronecker product, check this [link](https://en.wikipedia.org/wiki/Kronecker_product).\n",
    "\n",
    "Now let's view the resulting structure of our matrix by defining the following auxiliary plot method"
   ]
  },
  {
   "cell_type": "code",
   "execution_count": 8,
   "metadata": {
    "collapsed": true
   },
   "outputs": [],
   "source": [
    "%matplotlib inline\n",
    "import matplotlib.pyplot as plt\n",
    "\n",
    "def spy(A, precision=0.1, markersize=5, figsize=None):\n",
    "    if figsize:\n",
    "        fig = plt.figure(figsize=figsize)\n",
    "    else:\n",
    "        fig = plt.figure()\n",
    "    plt.spy(A, precision=precision, markersize=markersize)\n",
    "    plt.show()"
   ]
  },
  {
   "cell_type": "code",
   "execution_count": 9,
   "metadata": {
    "collapsed": false
   },
   "outputs": [
    {
     "data": {
      "image/png": "[encoded data removed]",
      "text/plain": [
       "<matplotlib.figure.Figure at 0x12851d08ef0>"
      ]
     },
     "metadata": {},
     "output_type": "display_data"
    }
   ],
   "source": [
    "spy(A_block)"
   ]
  },
  {
   "cell_type": "markdown",
   "metadata": {},
   "source": [
    "## Scipy (sparse) version\n",
    "\n",
    "Let's import our `scipy.sparse` module"
   ]
  },
  {
   "cell_type": "code",
   "execution_count": 10,
   "metadata": {
    "collapsed": true
   },
   "outputs": [],
   "source": [
    "import scipy.sparse as sp"
   ]
  },
  {
   "cell_type": "markdown",
   "metadata": {},
   "source": [
    "Let's create a simple sparse diagonal matrix."
   ]
  },
  {
   "cell_type": "code",
   "execution_count": 11,
   "metadata": {
    "collapsed": true
   },
   "outputs": [],
   "source": [
    "N = 10"
   ]
  },
  {
   "cell_type": "code",
   "execution_count": 12,
   "metadata": {
    "collapsed": false
   },
   "outputs": [],
   "source": [
    "A = sp.diags([1, 1, 1], [-1, 0, 1], shape=(N, N))"
   ]
  },
  {
   "cell_type": "markdown",
   "metadata": {},
   "source": [
    "The matrix `B` can be the same (dense) matrix. "
   ]
  },
  {
   "cell_type": "code",
   "execution_count": 13,
   "metadata": {
    "collapsed": false
   },
   "outputs": [],
   "source": [
    "A_block_sparse = sp.kron(A, B)"
   ]
  },
  {
   "cell_type": "code",
   "execution_count": 14,
   "metadata": {
    "collapsed": false
   },
   "outputs": [
    {
     "data": {
      "image/png": "[encoded data removed]",
      "text/plain": [
       "<matplotlib.figure.Figure at 0x12852953278>"
      ]
     },
     "metadata": {},
     "output_type": "display_data"
    }
   ],
   "source": [
    "spy(A_block_sparse)"
   ]
  },
  {
   "cell_type": "markdown",
   "metadata": {},
   "source": [
    "## The method `kronsum`\n",
    "\n",
    "As a curiosity, the method `kronsum` has an interesting feature also, let's check it out"
   ]
  },
  {
   "cell_type": "code",
   "execution_count": 15,
   "metadata": {
    "collapsed": false
   },
   "outputs": [
    {
     "data": {
      "image/png": "[encoded data removed]",
      "text/plain": [
       "<matplotlib.figure.Figure at 0x128529f6630>"
      ]
     },
     "metadata": {},
     "output_type": "display_data"
    }
   ],
   "source": [
    "B = [[1, 0], [0, 1]]\n",
    "A_new = sp.kronsum(A_block_sparse, B)\n",
    "#A_new = sp.kronsum(A_block_sparse, [[1, 1, 1, 1], [1, 1, 1, 1 ], [1, 1, 1, 1], [1, 1, 1, 1]])\n",
    "\n",
    "spy(A_new)"
   ]
  },
  {
   "cell_type": "markdown",
   "metadata": {},
   "source": [
    "Inverting the product order"
   ]
  },
  {
   "cell_type": "code",
   "execution_count": 16,
   "metadata": {
    "collapsed": false
   },
   "outputs": [
    {
     "data": {
      "image/png": "[encoded data removed]",
      "text/plain": [
       "<matplotlib.figure.Figure at 0x128529b20f0>"
      ]
     },
     "metadata": {},
     "output_type": "display_data"
    }
   ],
   "source": [
    "B = [[1, 1], [1, 1]]\n",
    "A_new = sp.kronsum(B, A_block_sparse)\n",
    "\n",
    "spy(A_new)"
   ]
  },
  {
   "cell_type": "markdown",
   "metadata": {},
   "source": [
    "We can check the definition of the `kronsum` [here](http://mathworld.wolfram.com/KroneckerSum.html). I am not sure if it matches the `scipy` definition."
   ]
  },
  {
   "cell_type": "markdown",
   "metadata": {},
   "source": [
    "## Network case\n",
    "\n",
    "Now for our network case, the matrix structure will be more complex. However, we now must simply define the non-blocked matrix structure. It will be much easier!\n",
    "\n",
    "Let's use `networkx` to help out with graph generation."
   ]
  },
  {
   "cell_type": "code",
   "execution_count": 17,
   "metadata": {
    "collapsed": false
   },
   "outputs": [],
   "source": [
    "import networkx as nx\n",
    "\n",
    "G = nx.Graph()\n",
    "G.add_edge(0,1)\n",
    "G.add_edge(1,2)\n",
    "G.add_edge(1,3)"
   ]
  },
  {
   "cell_type": "markdown",
   "metadata": {},
   "source": [
    "With `networkx`, the matrix structure associated with the graph above is easily obtained by using the `laplacian_matrix` method. "
   ]
  },
  {
   "cell_type": "code",
   "execution_count": 18,
   "metadata": {
    "collapsed": false
   },
   "outputs": [
    {
     "data": {
      "text/plain": [
       "array([[ 1, -1,  0,  0],\n",
       "       [-1,  3, -1, -1],\n",
       "       [ 0, -1,  1,  0],\n",
       "       [ 0, -1,  0,  1]], dtype=int32)"
      ]
     },
     "execution_count": 18,
     "metadata": {},
     "output_type": "execute_result"
    }
   ],
   "source": [
    "nx.laplacian_matrix(G).toarray()"
   ]
  },
  {
   "cell_type": "markdown",
   "metadata": {},
   "source": [
    "I have inspected the method above, and it essentially uses the `to_scipy_sparse_matrix` (with a few extras sums), i.e.,"
   ]
  },
  {
   "cell_type": "code",
   "execution_count": 19,
   "metadata": {
    "collapsed": false
   },
   "outputs": [
    {
     "data": {
      "text/plain": [
       "array([[0, 1, 0, 0],\n",
       "       [1, 0, 1, 1],\n",
       "       [0, 1, 0, 0],\n",
       "       [0, 1, 0, 0]], dtype=int32)"
      ]
     },
     "execution_count": 19,
     "metadata": {},
     "output_type": "execute_result"
    }
   ],
   "source": [
    "nx.to_scipy_sparse_matrix(G).toarray()"
   ]
  },
  {
   "cell_type": "markdown",
   "metadata": {},
   "source": [
    "## Small problem\n",
    "\n",
    "Let's start with a smaller problem"
   ]
  },
  {
   "cell_type": "code",
   "execution_count": 20,
   "metadata": {
    "collapsed": false
   },
   "outputs": [
    {
     "data": {
      "text/plain": [
       "array([[ 1.,  1.,  0.],\n",
       "       [ 1.,  1.,  1.],\n",
       "       [ 0.,  1.,  1.]])"
      ]
     },
     "execution_count": 20,
     "metadata": {},
     "output_type": "execute_result"
    }
   ],
   "source": [
    "N = 3\n",
    "A = sp.diags([1, 1, 1], [-1, 0, 1], shape=(N, N))\n",
    "A.toarray()"
   ]
  },
  {
   "cell_type": "code",
   "execution_count": 21,
   "metadata": {
    "collapsed": false
   },
   "outputs": [
    {
     "data": {
      "image/png": "[encoded data removed]",
      "text/plain": [
       "<matplotlib.figure.Figure at 0x12852746400>"
      ]
     },
     "metadata": {},
     "output_type": "display_data"
    }
   ],
   "source": [
    "G = nx.Graph()\n",
    "G.add_edge(0,1)\n",
    "G.add_edge(1,2)\n",
    "\n",
    "J = []\n",
    "for pipe in G.edges():    \n",
    "    A = sp.diags([1, 1, 1], [-1, 0, 1], shape=(N, N))\n",
    "    J.append(A)\n",
    "J = sp.block_diag(J)\n",
    "spy(J)"
   ]
  },
  {
   "cell_type": "code",
   "execution_count": 22,
   "metadata": {
    "collapsed": false
   },
   "outputs": [
    {
     "data": {
      "image/png": "[encoded data removed]",
      "text/plain": [
       "<matplotlib.figure.Figure at 0x128506d8b00>"
      ]
     },
     "metadata": {},
     "output_type": "display_data"
    }
   ],
   "source": [
    "n_x = 3\n",
    "connec = np.array([0, 1], dtype=int) + n_x - 1\n",
    "\n",
    "B = np.zeros(J.shape[1])\n",
    "B[connec] = 1\n",
    "\n",
    "C = np.zeros((J.shape[0] + 1, 1))\n",
    "\n",
    "C[connec, :] = 1\n",
    "C[-1, :] = 1\n",
    "\n",
    "J = sp.vstack([J, B])\n",
    "J = sp.hstack([J, C])\n",
    "spy(J)"
   ]
  },
  {
   "cell_type": "markdown",
   "metadata": {},
   "source": [
    "Assuming that I have found my solution, the final block structure matrix is obtained simply by using `kron` product"
   ]
  },
  {
   "cell_type": "code",
   "execution_count": 23,
   "metadata": {
    "collapsed": false
   },
   "outputs": [
    {
     "data": {
      "image/png": "[encoded data removed]",
      "text/plain": [
       "<matplotlib.figure.Figure at 0x128506d8358>"
      ]
     },
     "metadata": {},
     "output_type": "display_data"
    }
   ],
   "source": [
    "dof = 3\n",
    "block = np.ones((dof, dof))\n",
    "J_block = sp.kron(J, block)\n",
    "spy(J_block)"
   ]
  },
  {
   "cell_type": "markdown",
   "metadata": {},
   "source": [
    "![Alt text](https://img.memesuper.com/1164e63125beb13bced489740590bc1f_nice-meme-nice_319-316.jpeg)\n",
    "\n",
    "...don't you think???\n",
    "\n",
    "## More complex case\n",
    "\n",
    "I wan't to assume that the isertion of edges and nodes in my graph matter. This is not the default behaviour in `networkx`. So the approach is to create a derived class that uses `OrderedDict` as factory."
   ]
  },
  {
   "cell_type": "code",
   "execution_count": 24,
   "metadata": {
    "collapsed": true
   },
   "outputs": [],
   "source": [
    "from collections import OrderedDict\n",
    "\n",
    "class OrderedDiGraph(nx.DiGraph):\n",
    "    node_dict_factory      = OrderedDict\n",
    "    adjlist_dict_factory   = OrderedDict\n",
    "    edge_attr_dict_factory = OrderedDict\n",
    "    \n",
    "G = nx.OrderedDiGraph()\n",
    "G.add_edge(0,1)\n",
    "G.add_edge(1,2)\n",
    "G.add_edge(1,3)\n",
    "G.add_edge(3,4)\n",
    "G.add_edge(4,5)\n",
    "G.add_edge(3,6)"
   ]
  },
  {
   "cell_type": "markdown",
   "metadata": {},
   "source": [
    "Let's use `draw` method from `networkx` to view our (pipe) network graph"
   ]
  },
  {
   "cell_type": "code",
   "execution_count": 25,
   "metadata": {
    "collapsed": false
   },
   "outputs": [
    {
     "data": {
      "image/png": "[encoded data removed]",
      "text/plain": [
       "<matplotlib.figure.Figure at 0x1285075ef60>"
      ]
     },
     "metadata": {},
     "output_type": "display_data"
    }
   ],
   "source": [
    "pos = nx.spring_layout(G, k=2)\n",
    "\n",
    "plt.figure()\n",
    "nx.draw(G, pos,node_color='g', node_size=250, with_labels=True, width=6)\n",
    "plt.show()"
   ]
  },
  {
   "cell_type": "markdown",
   "metadata": {},
   "source": [
    "The first step is to create the base matrix structure without including the internal nodes."
   ]
  },
  {
   "cell_type": "code",
   "execution_count": 26,
   "metadata": {
    "collapsed": true
   },
   "outputs": [],
   "source": [
    "N = 10\n",
    "J = []\n",
    "edges_idx = {}\n",
    "for i, pipe in enumerate(G.edges()):   \n",
    "    edges_idx[pipe] = i\n",
    "    A = sp.diags([1, 1, 1], [-1, 0, 1], shape=(N, N))\n",
    "    J.append(A) \n",
    "J = sp.block_diag(J)"
   ]
  },
  {
   "cell_type": "markdown",
   "metadata": {},
   "source": [
    "Ok.... so now a little warning. The code below is actually not so great, I wish I could do better, but there's no time left and this what I could come up with. What it does is: loop through all graph nodes, if it is an internal node, then add values to a connection list with the matrix positions where the values should be inserted. We only need an array for that since it will be a symmetric insertion along rows and columns."
   ]
  },
  {
   "cell_type": "code",
   "execution_count": 27,
   "metadata": {
    "collapsed": false
   },
   "outputs": [],
   "source": [
    "connections = []\n",
    "# Add internal node matrix structures\n",
    "for n in G.nodes():  \n",
    "    edges = G.in_edges(n) + G.out_edges(n)\n",
    "\n",
    "    if len(edges) > 1:  # if len(edges) > 1, then n is an internal node       \n",
    "        connec = []\n",
    "        for i, e in enumerate(edges):\n",
    "            j = edges_idx[e]             \n",
    "            if e[0] == n:\n",
    "                matrix_idx = j*N                 \n",
    "            else:\n",
    "                assert e[1] == n, 'node must match edge idx here!'\n",
    "                matrix_idx = (j+1)*N - 1        \n",
    "            connec.append(matrix_idx)            \n",
    "        connections.append(connec)"
   ]
  },
  {
   "cell_type": "markdown",
   "metadata": {},
   "source": [
    "The method defined below will help us to modify the shape of `J` by including the **nodes** in the end."
   ]
  },
  {
   "cell_type": "code",
   "execution_count": 28,
   "metadata": {
    "collapsed": true
   },
   "outputs": [],
   "source": [
    "def append_connection_nodes_to_sparse_matrix(connec, J):\n",
    "    B = np.zeros(J.shape[1])\n",
    "    B[connec] = 1\n",
    "    C = np.zeros((J.shape[0] + 1, 1))\n",
    "    C[connec, :] = 1\n",
    "    C[-1, :] = 1\n",
    "    J = sp.vstack([J, B])\n",
    "    J = sp.hstack([J, C])\n",
    "    return J"
   ]
  },
  {
   "cell_type": "markdown",
   "metadata": {},
   "source": [
    "Now let's modify our matrix with the method we have just implemented above"
   ]
  },
  {
   "cell_type": "code",
   "execution_count": 29,
   "metadata": {
    "collapsed": true
   },
   "outputs": [],
   "source": [
    "for connec in connections:\n",
    "    J = append_connection_nodes_to_sparse_matrix(connec, J)"
   ]
  },
  {
   "cell_type": "markdown",
   "metadata": {},
   "source": [
    "Nice, now it's time to view some results a see how it looks like. "
   ]
  },
  {
   "cell_type": "code",
   "execution_count": 30,
   "metadata": {
    "collapsed": false
   },
   "outputs": [
    {
     "data": {
      "image/png": "[encoded data removed]",
      "text/plain": [
       "<matplotlib.figure.Figure at 0x12854435630>"
      ]
     },
     "metadata": {},
     "output_type": "display_data"
    }
   ],
   "source": [
    "spy(J, markersize=3, figsize=(5,5))"
   ]
  },
  {
   "cell_type": "markdown",
   "metadata": {},
   "source": [
    "Now let's use our magic `kron` (not so magic after you understand the mathematical definition) product to create the block matrix structure."
   ]
  },
  {
   "cell_type": "code",
   "execution_count": 31,
   "metadata": {
    "collapsed": false
   },
   "outputs": [
    {
     "data": {
      "image/png": "[encoded data removed]",
      "text/plain": [
       "<matplotlib.figure.Figure at 0x12854632128>"
      ]
     },
     "metadata": {},
     "output_type": "display_data"
    }
   ],
   "source": [
    "dof = 3\n",
    "block = np.ones((dof, dof))\n",
    "J_block = sp.kron(J, block)\n",
    "spy(J_block, markersize=2, figsize=(5,5))"
   ]
  },
  {
   "cell_type": "markdown",
   "metadata": {},
   "source": [
    "Bigger version (zoom) of the plot above..."
   ]
  },
  {
   "cell_type": "code",
   "execution_count": 32,
   "metadata": {
    "collapsed": false
   },
   "outputs": [
    {
     "data": {
      "image/png": "[encoded data removed]",
      "text/plain": [
       "<matplotlib.figure.Figure at 0x12854638908>"
      ]
     },
     "metadata": {},
     "output_type": "display_data"
    }
   ],
   "source": [
    "spy(J_block, markersize=5.05, figsize=(12,12))"
   ]
  },
  {
   "cell_type": "markdown",
   "metadata": {},
   "source": [
    "![alt-text](https://img.memesuper.com/14119e421d296068f5ff53a4bf7ed427_the-end-of-the-school-year-is-end-memes_1024-773.jpeg)"
   ]
  }
 ],
 "metadata": {
  "anaconda-cloud": {},
  "kernelspec": {
   "display_name": "Python [conda env:petsc_debug]",
   "language": "python",
   "name": "conda-env-petsc_debug-py"
  },
  "language_info": {
   "codemirror_mode": {
    "name": "ipython",
    "version": 3
   },
   "file_extension": ".py",
   "mimetype": "text/x-python",
   "name": "python",
   "nbconvert_exporter": "python",
   "pygments_lexer": "ipython3",
   "version": "3.5.2"
  }
 },
 "nbformat": 4,
 "nbformat_minor": 1
}
