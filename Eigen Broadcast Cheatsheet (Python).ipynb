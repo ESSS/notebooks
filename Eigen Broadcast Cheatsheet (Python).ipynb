{
 "cells": [
  {
   "cell_type": "code",
   "execution_count": 1,
   "metadata": {},
   "outputs": [],
   "source": [
    "import numpy as np"
   ]
  },
  {
   "cell_type": "code",
   "execution_count": 2,
   "metadata": {},
   "outputs": [],
   "source": [
    "# empty"
   ]
  },
  {
   "cell_type": "code",
   "execution_count": 3,
   "metadata": {},
   "outputs": [
    {
     "name": "stdout",
     "output_type": "stream",
     "text": [
      "vec_ni:\n",
      " [1. 2. 3.] \n",
      "\n",
      "vec_nj:\n",
      " [40. 50.] \n",
      "\n",
      "mat_ni_nj:\n",
      " [[ 600.  700.]\n",
      " [ 800.  900.]\n",
      " [1000. 1100.]] \n",
      "\n"
     ]
    }
   ],
   "source": [
    "ni = 3\n",
    "nj = 2\n",
    "\n",
    "vec_ni = np.array([1.0, 2.0, 3.0])\n",
    "vec_nj = np.array([40.0, 50.0])\n",
    "\n",
    "mat_ni_nj = np.array([\n",
    "    [600.0, 700.0],\n",
    "    [800.0, 900.0],\n",
    "    [1000.0, 1100.0],\n",
    "])\n",
    "\n",
    "print('vec_ni:\\n', vec_ni, '\\n')\n",
    "print('vec_nj:\\n', vec_nj, '\\n')\n",
    "print('mat_ni_nj:\\n', mat_ni_nj, '\\n')"
   ]
  },
  {
   "cell_type": "code",
   "execution_count": 4,
   "metadata": {},
   "outputs": [
    {
     "data": {
      "text/plain": [
       "array([[24000., 35000.],\n",
       "       [32000., 45000.],\n",
       "       [40000., 55000.]])"
      ]
     },
     "execution_count": 4,
     "metadata": {},
     "output_type": "execute_result"
    }
   ],
   "source": [
    "vec_nj * mat_ni_nj"
   ]
  },
  {
   "cell_type": "code",
   "execution_count": 5,
   "metadata": {},
   "outputs": [
    {
     "data": {
      "text/plain": [
       "array([[ 600., 1600., 3000.],\n",
       "       [ 700., 1800., 3300.]])"
      ]
     },
     "execution_count": 5,
     "metadata": {},
     "output_type": "execute_result"
    }
   ],
   "source": [
    "vec_ni * mat_ni_nj.T"
   ]
  },
  {
   "cell_type": "code",
   "execution_count": 6,
   "metadata": {},
   "outputs": [
    {
     "data": {
      "text/plain": [
       "array([59000., 77000., 95000.])"
      ]
     },
     "execution_count": 6,
     "metadata": {},
     "output_type": "execute_result"
    }
   ],
   "source": [
    "np.sum(vec_nj * mat_ni_nj, axis=1)"
   ]
  },
  {
   "cell_type": "code",
   "execution_count": 7,
   "metadata": {},
   "outputs": [],
   "source": [
    "mat_nj_ni = vec_ni * mat_ni_nj.T"
   ]
  },
  {
   "cell_type": "code",
   "execution_count": 8,
   "metadata": {},
   "outputs": [
    {
     "data": {
      "text/plain": [
       "array([[ 600.,  800., 1000.],\n",
       "       [ 700.,  900., 1100.]])"
      ]
     },
     "execution_count": 8,
     "metadata": {},
     "output_type": "execute_result"
    }
   ],
   "source": [
    "mat_nj_ni / vec_ni"
   ]
  },
  {
   "cell_type": "code",
   "execution_count": 9,
   "metadata": {},
   "outputs": [
    {
     "data": {
      "text/plain": [
       "array([[ 600.,  800., 1000.],\n",
       "       [ 700.,  900., 1100.]])"
      ]
     },
     "execution_count": 9,
     "metadata": {},
     "output_type": "execute_result"
    }
   ],
   "source": [
    "# Replacing `mat_nj_ni` with it's expression\n",
    "\n",
    "(vec_ni * mat_ni_nj.T) / vec_ni"
   ]
  },
  {
   "cell_type": "code",
   "execution_count": 10,
   "metadata": {},
   "outputs": [
    {
     "data": {
      "text/plain": [
       "array([[0.01016949, 0.02077922, 0.03157895],\n",
       "       [0.01186441, 0.02337662, 0.03473684]])"
      ]
     },
     "execution_count": 10,
     "metadata": {},
     "output_type": "execute_result"
    }
   ],
   "source": [
    "# Replacing rightmost `vec_ni` by the sum expression\n",
    "\n",
    "(vec_ni * mat_ni_nj.T) / np.sum(vec_nj * mat_ni_nj, axis=1)"
   ]
  }
 ],
 "metadata": {
  "kernelspec": {
   "display_name": "Python 3",
   "language": "python",
   "name": "python3"
  },
  "language_info": {
   "codemirror_mode": {
    "name": "ipython",
    "version": 3
   },
   "file_extension": ".py",
   "mimetype": "text/x-python",
   "name": "python",
   "nbconvert_exporter": "python",
   "pygments_lexer": "ipython3",
   "version": "3.6.5"
  }
 },
 "nbformat": 4,
 "nbformat_minor": 2
}
