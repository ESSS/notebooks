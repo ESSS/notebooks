{
 "cells": [
  {
   "cell_type": "markdown",
   "metadata": {},
   "source": [
    "# Read and manipulate some data in .pvt files"
   ]
  },
  {
   "cell_type": "code",
   "execution_count": 22,
   "metadata": {},
   "outputs": [],
   "source": [
    "# Here we can implement some criteria in order to modify PVT values\n",
    "def calculate_new_property_value(P_value, T_value, previous_property_value):\n",
    "    '''\n",
    "    Here we can add some criteria in order to change values of\n",
    "    a variable selected in \"property_index\"\n",
    "    '''\n",
    "    if previous_property_value > 100.0:\n",
    "        new_property_value = 100.0\n",
    "        return f\"{new_property_value:.6e}\"\n",
    "    else:\n",
    "        return f\"{previous_property_value:.6e}\""
   ]
  },
  {
   "cell_type": "code",
   "execution_count": 23,
   "metadata": {},
   "outputs": [],
   "source": [
    "import pathlib\n",
    "\n",
    "# INPUT:\n",
    "TABLE_NAME = \"Tabela_Tampliada_200\"\n",
    "\n",
    "# Filepath\n",
    "filename = pathlib.Path(\"W:\\\\\" + TABLE_NAME + \".tab\")\n",
    "\n",
    "# Read original table\n",
    "original_lines = [i.strip().split() for i in open(filename).readlines()]\n",
    "\n",
    "converted_lines = original_lines.copy()\n",
    "\n",
    "names = converted_lines[21][2][1:-1].split(',')\n",
    "\n",
    "# Variable name\n",
    "property_index = names.index(\"ROG\")\n",
    "\n",
    "pvt_points = [l for l in converted_lines[23:] if 'PVTTABLE' in l]\n",
    "converted_pvt_points = pvt_points.copy()\n",
    "\n",
    "for i, (_, _, _, point) in enumerate(pvt_points):\n",
    "    line_values = point[1:-1].split(',')\n",
    "    \n",
    "    def get_value(index):\n",
    "        return float(line_values[index])\n",
    "    \n",
    "    P_value = get_value(names.index(\"PT\"))\n",
    "    T_value = get_value(names.index(\"TM\"))\n",
    "\n",
    "    property_value = get_value(property_index)\n",
    "    line_values[property_index] = calculate_new_property_value(P_value, T_value, property_value)\n",
    "    \n",
    "    converted_point = \"(\" + \",\".join(line_values) + \")\"\n",
    "    converted_pvt_points[i][3] = converted_point\n",
    "\n",
    "converted_lines[23:] = converted_pvt_points\n",
    "\n",
    "out_filename = pathlib.Path(\"W:\\\\\" + TABLE_NAME + \"_modified.tab\")\n",
    "converte_file = open(out_filename, \"w\")\n",
    "with converte_file as f:\n",
    "    for _list in converted_lines:\n",
    "        f.write(\" \".join(_list) + '\\n')"
   ]
  },
  {
   "cell_type": "code",
   "execution_count": null,
   "metadata": {},
   "outputs": [],
   "source": []
  }
 ],
 "metadata": {
  "kernelspec": {
   "display_name": "Python 3",
   "language": "python",
   "name": "python3"
  },
  "language_info": {
   "codemirror_mode": {
    "name": "ipython",
    "version": 3
   },
   "file_extension": ".py",
   "mimetype": "text/x-python",
   "name": "python",
   "nbconvert_exporter": "python",
   "pygments_lexer": "ipython3",
   "version": "3.6.7"
  }
 },
 "nbformat": 4,
 "nbformat_minor": 2
}
