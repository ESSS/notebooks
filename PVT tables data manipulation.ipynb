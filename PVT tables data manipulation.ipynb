{
 "cells": [
  {
   "cell_type": "markdown",
   "metadata": {},
   "source": [
    "# Read and manipulate some data in .pvt files"
   ]
  },
  {
   "cell_type": "code",
   "execution_count": 2,
   "metadata": {},
   "outputs": [],
   "source": [
    "import numpy as np\n",
    "import matplotlib.pyplot as plt"
   ]
  },
  {
   "cell_type": "code",
   "execution_count": 10,
   "metadata": {},
   "outputs": [],
   "source": [
    "# Here we can implement some criteria in order to modify PVT values\n",
    "def calculate_new_property_value(P_value, T_value, previous_property_value):\n",
    "    '''\n",
    "    Here we can add some criteria in order to change values of\n",
    "    a variable selected in \"property_index\"\n",
    "    '''\n",
    "    # P v = Z R T / M\n",
    "    # rho = 1 / v = P M / (Z R T)\n",
    "    R = 8.314 / (16.04 * 1e-3) # J/(kg.K)\n",
    "    Z = 1.0\n",
    "    new_property_value = P_value / (Z * R * (T_value + 273.15))\n",
    "    return f\"{new_property_value:.6e}\"\n",
    "\n",
    "    #if previous_property_value > 0.002:\n",
    "    #    new_property_value = 0.002\n",
    "    #    return f\"{new_property_value:.6e}\"\n",
    "    #else:\n",
    "    #    return f\"{previous_property_value:.6e}\"\n",
    "    \n",
    "import pathlib\n",
    "\n",
    "# INPUT:\n",
    "TABLE_NAME = \"Tabela_Tampliada_200\"\n",
    "\n",
    "# Filepath\n",
    "filename = pathlib.Path(\"W:\\\\\" + TABLE_NAME + \".tab\")\n",
    "\n",
    "# Read original table\n",
    "original_lines = [i.strip().split() for i in open(filename).readlines()]\n",
    "\n",
    "converted_lines = original_lines.copy()\n",
    "\n",
    "names = converted_lines[21][2][1:-1].split(',')\n",
    "\n",
    "# Variable name\n",
    "property_index = names.index(\"ROG\")\n",
    "\n",
    "pvt_points = [l for l in converted_lines[23:] if 'PVTTABLE' in l]\n",
    "converted_pvt_points = pvt_points.copy()\n",
    "\n",
    "some_property = []\n",
    "for i, (_, _, _, point) in enumerate(pvt_points):\n",
    "    line_values = point[1:-1].split(',')\n",
    "    \n",
    "    def get_value(index):\n",
    "        return float(line_values[index])\n",
    "    \n",
    "    P_value = get_value(names.index(\"PT\"))\n",
    "    T_value = get_value(names.index(\"TM\"))\n",
    "\n",
    "    property_value = get_value(property_index)\n",
    "    property_value = calculate_new_property_value(P_value, T_value, property_value)\n",
    "    line_values[property_index] = property_value\n",
    "    \n",
    "    some_property.append(float(property_value))\n",
    "    converted_point = \"(\" + \",\".join(line_values) + \")\"\n",
    "    converted_pvt_points[i][3] = converted_point\n",
    "\n",
    "converted_lines[23:] = converted_pvt_points\n",
    "\n",
    "out_filename = pathlib.Path(\"W:\\\\\" + TABLE_NAME + \"_modified.tab\")\n",
    "converte_file = open(out_filename, \"w\")\n",
    "with converte_file as f:\n",
    "    for _list in converted_lines:\n",
    "        f.write(\" \".join(_list) + '\\n')\n",
    "        \n",
    "pressures = np.array([float(i) for i in original_lines[17][2][1:-1].split(',')])\n",
    "temperatures = np.array([float(i) for i in original_lines[18][2][1:-1].split(',')])\n",
    "bubble_point_pressures = np.array([float(i) for i in original_lines[19][2][1:-1].split(',')])\n",
    "bubble_point_temperatures = np.array([float(i) for i in original_lines[20][2][1:-1].split(',')])\n",
    "some_property = np.array(some_property).reshape((temperatures.size, pressures.size))\n",
    "T, P = np.meshgrid(temperatures, pressures, indexing='xy')"
   ]
  },
  {
   "cell_type": "code",
   "execution_count": 7,
   "metadata": {},
   "outputs": [],
   "source": [
    "plt.figure()\n",
    "plt.scatter(T, P)\n",
    "plt.scatter(bubble_point_temperatures, bubble_point_pressures)\n",
    "#plt.xlim(-10, 60)\n",
    "#plt.ylim(-1e5, 1000e5)\n",
    "plt.show()"
   ]
  },
  {
   "cell_type": "code",
   "execution_count": 11,
   "metadata": {},
   "outputs": [],
   "source": [
    "%matplotlib qt\n",
    "from mpl_toolkits.mplot3d import Axes3D\n",
    "import matplotlib.pyplot as plt\n",
    "from matplotlib import cm\n",
    "from matplotlib.ticker import LinearLocator, FormatStrFormatter\n",
    "import numpy as np\n",
    "\n",
    "\n",
    "fig = plt.figure()\n",
    "ax = fig.gca(projection='3d')\n",
    "\n",
    "\n",
    "# Plot the surface.\n",
    "surf = ax.plot_surface(T, P, some_property, cmap=cm.coolwarm,\n",
    "                       linewidth=0, antialiased=False)\n",
    "\n",
    "# Customize the z axis.\n",
    "#ax.set_xlim(-50, 100)\n",
    "#ax.set_xlim(-1.01, 1.01)\n",
    "#ax.zaxis.set_major_locator(LinearLocator(10))\n",
    "#ax.zaxis.set_major_formatter(FormatStrFormatter('%.02f'))\n",
    "\n",
    "# Add a color bar which maps values to colors.\n",
    "fig.colorbar(surf, shrink=0.5, aspect=5)\n",
    "\n",
    "plt.show()"
   ]
  },
  {
   "cell_type": "code",
   "execution_count": null,
   "metadata": {},
   "outputs": [],
   "source": []
  }
 ],
 "metadata": {
  "kernelspec": {
   "display_name": "Python 3",
   "language": "python",
   "name": "python3"
  },
  "language_info": {
   "codemirror_mode": {
    "name": "ipython",
    "version": 3
   },
   "file_extension": ".py",
   "mimetype": "text/x-python",
   "name": "python",
   "nbconvert_exporter": "python",
   "pygments_lexer": "ipython3",
   "version": "3.6.7"
  }
 },
 "nbformat": 4,
 "nbformat_minor": 2
}
