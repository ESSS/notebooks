{
 "cells": [
  {
   "cell_type": "markdown",
   "metadata": {},
   "source": [
    "### In this sample script we present a simple benchmark that compares Numpy, sci20 and Python native loop approaches for calculating accumulative sum for a given array."
   ]
  },
  {
   "cell_type": "markdown",
   "metadata": {},
   "source": [
    "Let's start with imports. Make sure you have installed sci20 correctly."
   ]
  },
  {
   "cell_type": "code",
   "execution_count": 7,
   "metadata": {},
   "outputs": [],
   "source": [
    "import functools\n",
    "import timeit\n",
    "\n",
    "import numpy as np\n",
    "\n",
    "from sci20.core import Array, FromNumPy\n",
    "from sci20.core.unittest import AccumulateArrayReturning"
   ]
  },
  {
   "cell_type": "markdown",
   "metadata": {},
   "source": [
    "#### The following blocks will be used to define the functions that computes the accumulative sum by the chosen three approaches."
   ]
  },
  {
   "cell_type": "markdown",
   "metadata": {},
   "source": [
    "Native implementation using Python for command"
   ]
  },
  {
   "cell_type": "code",
   "execution_count": 2,
   "metadata": {
    "collapsed": true
   },
   "outputs": [],
   "source": [
    "def native_acc(x):\n",
    "    \"\"\"\n",
    "    Calculate accumulative sum using Python native loop approach\n",
    "    :param x: Numpy array\n",
    "    :return: Accumulative sum (list)\n",
    "    \"\"\"\n",
    "    native_acc_sum = []\n",
    "\n",
    "    sum_aux = 0\n",
    "    for val in x:\n",
    "        native_acc_sum.append(val + sum_aux)\n",
    "        sum_aux += val\n",
    "\n",
    "    return native_acc_sum"
   ]
  },
  {
   "cell_type": "markdown",
   "metadata": {},
   "source": [
    "Just a binding for numpy.cumsum"
   ]
  },
  {
   "cell_type": "code",
   "execution_count": 3,
   "metadata": {
    "collapsed": true
   },
   "outputs": [],
   "source": [
    "def np_acc(x):\n",
    "    \"\"\"\n",
    "    Calculate accumulative sum using numpy.cumsum\n",
    "    :param x: Numpy array\n",
    "    :return: Accumulative sum (Numpy array)\n",
    "    \"\"\"\n",
    "    return np.cumsum(x)"
   ]
  },
  {
   "cell_type": "markdown",
   "metadata": {},
   "source": [
    "Now using sci20 implementation"
   ]
  },
  {
   "cell_type": "code",
   "execution_count": 4,
   "metadata": {
    "collapsed": true
   },
   "outputs": [],
   "source": [
    "def sci20_acc(x):\n",
    "    \"\"\"\n",
    "    Calculate accumulative sum using sci20 Array\n",
    "    :param x: Numpy array\n",
    "    :return: Accumulative sum (sci20 array)\n",
    "    \"\"\"\n",
    "    x_array = Array(FromNumPy(x))\n",
    "    return AccumulateArrayReturning(x_array)\n"
   ]
  },
  {
   "cell_type": "markdown",
   "metadata": {},
   "source": [
    "Here we use the timeit standard lib to obtain the elapsed time of each method"
   ]
  },
  {
   "cell_type": "code",
   "execution_count": 5,
   "metadata": {},
   "outputs": [],
   "source": [
    "def do_benchmark(n=1000, k=10):\n",
    "    \"\"\"\n",
    "    Compute elapsed time for each accumulative sum implementation (Native loop, Numpy and sci20).\n",
    "    :param n: Number of array elements. Default is 1000.\n",
    "    :param k: Number of averages used for timing. Default is 10.\n",
    "    :param dtype: Array data type. Default is np.double.\n",
    "    :return: A tuple (dt_native, dt_sci20, dt_np) containing the elapsed time for each method.\n",
    "    \"\"\"\n",
    "\n",
    "    x = np.linspace(1, 100, n)\n",
    "\n",
    "    dt_native = timeit.Timer(functools.partial(native_acc, x,)).timeit(k)\n",
    "    dt_sci20 = timeit.Timer(functools.partial(sci20_acc, x,)).timeit(k)\n",
    "    dt_np = timeit.Timer(functools.partial(np_acc, x,)).timeit(k)\n",
    "\n",
    "    return dt_native, dt_sci20, dt_np"
   ]
  },
  {
   "cell_type": "markdown",
   "metadata": {},
   "source": [
    "And finally we have the results. sci20 and Numpy implementations are almost equivalent, while native loop has demonstrated its inefficiency"
   ]
  },
  {
   "cell_type": "code",
   "execution_count": 6,
   "metadata": {},
   "outputs": [
    {
     "name": "stdout",
     "output_type": "stream",
     "text": [
      "Computing benchmark for n=10...\nNative: 0.00044343s / sci20: 0.00137527s / Numpy: 0.00004437s.\nComputing benchmark for n=100...\nNative: 0.00087931s / sci20: 0.00009992s / Numpy: 0.00003139s.\nComputing benchmark for n=1000...\nNative: 0.00690351s / sci20: 0.00017659s / Numpy: 0.00006822s.\nComputing benchmark for n=10000...\nNative: 0.05423526s / sci20: 0.00039181s / Numpy: 0.00030850s.\nComputing benchmark for n=100000...\n"
     ]
    },
    {
     "name": "stdout",
     "output_type": "stream",
     "text": [
      "Native: 0.56866048s / sci20: 0.00286645s / Numpy: 0.00264851s.\nComputing benchmark for n=1000000...\n"
     ]
    },
    {
     "name": "stdout",
     "output_type": "stream",
     "text": [
      "Native: 5.58011361s / sci20: 0.04359414s / Numpy: 0.04290680s.\nComputing benchmark for n=10000000...\n"
     ]
    },
    {
     "name": "stdout",
     "output_type": "stream",
     "text": [
      "Native: 56.68339517s / sci20: 0.45964209s / Numpy: 0.46603757s.\n"
     ]
    }
   ],
   "source": [
    "\"\"\"\n",
    "Computes and prints the elapsed time for each accumulative sum implementation (Native loop, Numpy and sci20).\n",
    "\"\"\"\n",
    "n_values = [10**x for x in range(1, 8)]  # [10, 100, ..., 10^7]\n",
    "\n",
    "for n in n_values:\n",
    "    print(\"Computing benchmark for n={}...\".format(n))\n",
    "    dt_native, dt_sci20, dt_np = do_benchmark(n)\n",
    "    print(\"Native: {:.8f}s / sci20: {:.8f}s / Numpy: {:.8f}s.\".format(dt_native, dt_sci20, dt_np))"
   ]
  }
 ],
 "metadata": {
  "kernelspec": {
   "display_name": "Python 2",
   "language": "python",
   "name": "python2"
  },
  "language_info": {
   "codemirror_mode": {
    "name": "ipython",
    "version": 2
   },
   "file_extension": ".py",
   "mimetype": "text/x-python",
   "name": "python",
   "nbconvert_exporter": "python",
   "pygments_lexer": "ipython2",
   "version": "2.7.12"
  }
 },
 "nbformat": 4,
 "nbformat_minor": 2
}
