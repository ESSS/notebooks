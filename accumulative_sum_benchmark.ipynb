{
 "cells": [
  {
   "cell_type": "code",
   "execution_count": 1,
   "metadata": {},
   "outputs": [
    {
     "ename": "RuntimeError",
     "evalue": "module compiled against API version 0xa but this version of numpy is 0x9",
     "output_type": "error",
     "traceback": [
      "\u001b[1;31m---------------------------------------------------------------------------\u001b[0m",
      "\u001b[1;31mRuntimeError\u001b[0m                              Traceback (most recent call last)",
      "\u001b[1;31mRuntimeError\u001b[0m: module compiled against API version 0xa but this version of numpy is 0x9"
     ]
    },
    {
     "ename": "RuntimeError",
     "evalue": "module compiled against API version 0xa but this version of numpy is 0x9",
     "output_type": "error",
     "traceback": [
      "\u001b[1;31m---------------------------------------------------------------------------\u001b[0m",
      "\u001b[1;31mRuntimeError\u001b[0m                              Traceback (most recent call last)",
      "\u001b[1;31mRuntimeError\u001b[0m: module compiled against API version 0xa but this version of numpy is 0x9"
     ]
    }
   ],
   "source": [
    "\"\"\"\n",
    "In this sample script we present a simple benchmark that compares Numpy, sci20 and Python native loop approaches\n",
    "for calculating accumulative sum for a given array.\n",
    "\"\"\"\n",
    "\n",
    "import functools\n",
    "import timeit\n",
    "\n",
    "import numpy as np\n",
    "\n",
    "from sci20.core import Array, FromNumPy\n",
    "from sci20.core.unittest import AccumulateArrayReturning"
   ]
  },
  {
   "cell_type": "code",
   "execution_count": 2,
   "metadata": {
    "collapsed": true
   },
   "outputs": [],
   "source": [
    "def native_acc(x):\n",
    "    \"\"\"\n",
    "    Calculate accumulative sum using Python native loop approach\n",
    "    :param x: Numpy array\n",
    "    :return: Accumulative sum (list)\n",
    "    \"\"\"\n",
    "    native_acc_sum = []\n",
    "\n",
    "    sum_aux = 0\n",
    "    for val in x:\n",
    "        native_acc_sum.append(val + sum_aux)\n",
    "        sum_aux += val\n",
    "\n",
    "    return native_acc_sum"
   ]
  },
  {
   "cell_type": "code",
   "execution_count": 3,
   "metadata": {
    "collapsed": true
   },
   "outputs": [],
   "source": [
    "def np_acc(x):\n",
    "    \"\"\"\n",
    "    Calculate accumulative sum using numpy.cumsum\n",
    "    :param x: Numpy array\n",
    "    :return: Accumulative sum (Numpy array)\n",
    "    \"\"\"\n",
    "    return np.cumsum(x)"
   ]
  },
  {
   "cell_type": "code",
   "execution_count": 4,
   "metadata": {
    "collapsed": true
   },
   "outputs": [],
   "source": [
    "def sci20_acc(x):\n",
    "    \"\"\"\n",
    "    Calculate accumulative sum using sci20 Array\n",
    "    :param x: Numpy array\n",
    "    :return: Accumulative sum (sci20 array)\n",
    "    \"\"\"\n",
    "    x_array = Array(FromNumPy(x))\n",
    "    return AccumulateArrayReturning(x_array)\n"
   ]
  },
  {
   "cell_type": "code",
   "execution_count": 10,
   "metadata": {},
   "outputs": [],
   "source": [
    "def do_benchmark(n=1000, k=10):\n",
    "    \"\"\"\n",
    "    Compute elapsed time for each accumulative sum implementation (Native loop, Numpy and sci20).\n",
    "    :param n: Number of array elements. Default is 1000.\n",
    "    :param k: Number of averages used for timing. Default is 10.\n",
    "    :param dtype: Array data type. Default is np.double.\n",
    "    :return: A tuple (dt_native, dt_sci20, dt_np) containing the elapsed time for each method.\n",
    "    \"\"\"\n",
    "\n",
    "    x = np.linspace(1, 100, n)\n",
    "\n",
    "    dt_native = timeit.Timer(functools.partial(native_acc, x,)).timeit(k)\n",
    "    dt_sci20 = timeit.Timer(functools.partial(sci20_acc, x,)).timeit(k)\n",
    "    dt_np = timeit.Timer(functools.partial(np_acc, x,)).timeit(k)\n",
    "\n",
    "    return dt_native, dt_sci20, dt_np"
   ]
  },
  {
   "cell_type": "code",
   "execution_count": 11,
   "metadata": {},
   "outputs": [
    {
     "name": "stdout",
     "output_type": "stream",
     "text": [
      "Computing benchmark for n=10...\n",
      "Native: 0.00094270s / sci20: 0.00123581s / Numpy: 0.00007516s.\n",
      "Computing benchmark for n=100...\n",
      "Native: 0.00083343s / sci20: 0.00010233s / Numpy: 0.00003260s.\n",
      "Computing benchmark for n=1000...\n",
      "Native: 0.00620410s / sci20: 0.00022156s / Numpy: 0.00009841s.\n",
      "Computing benchmark for n=10000...\n",
      "Native: 0.05538444s / sci20: 0.00040147s / Numpy: 0.00030307s.\n",
      "Computing benchmark for n=100000...\n",
      "Native: 0.55362249s / sci20: 0.00290177s / Numpy: 0.00258512s.\n",
      "Computing benchmark for n=1000000...\n",
      "Native: 5.62814899s / sci20: 0.04446590s / Numpy: 0.04345015s.\n",
      "Computing benchmark for n=10000000...\n",
      "Native: 56.75762737s / sci20: 0.44356419s / Numpy: 0.44021628s.\n"
     ]
    }
   ],
   "source": [
    "\"\"\"\n",
    "Computes and prints the elapsed time for each accumulative sum implementation (Native loop, Numpy and sci20).\n",
    "\"\"\"\n",
    "n_values = [10**x for x in range(1, 8)]  # [10, 100, ..., 10^7]\n",
    "\n",
    "for n in n_values:\n",
    "    print(\"Computing benchmark for n={}...\".format(n))\n",
    "    dt_native, dt_sci20, dt_np = do_benchmark(n)\n",
    "    print(\"Native: {:.8f}s / sci20: {:.8f}s / Numpy: {:.8f}s.\".format(dt_native, dt_sci20, dt_np))"
   ]
  }
 ],
 "metadata": {
  "kernelspec": {
   "display_name": "Python 2",
   "language": "python",
   "name": "python2"
  },
  "language_info": {
   "codemirror_mode": {
    "name": "ipython",
    "version": 2
   },
   "file_extension": ".py",
   "mimetype": "text/x-python",
   "name": "python",
   "nbconvert_exporter": "python",
   "pygments_lexer": "ipython2",
   "version": "2.7.12"
  }
 },
 "nbformat": 4,
 "nbformat_minor": 2
}
